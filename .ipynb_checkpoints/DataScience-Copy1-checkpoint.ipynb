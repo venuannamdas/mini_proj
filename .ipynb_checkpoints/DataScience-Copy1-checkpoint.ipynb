{
 "cells": [
  {
   "cell_type": "code",
   "execution_count": 11,
   "id": "74ad7e41",
   "metadata": {},
   "outputs": [],
   "source": [
    "                                                              # Import Libraies \n",
    "import requests\n",
    "import numpy as np\n",
    "import pandas as pd\n",
    "import matplotlib.pyplot as plt\n",
    "import seaborn as sns\n",
    "import folium\n",
    "from datetime import date"
   ]
  },
  {
   "cell_type": "code",
   "execution_count": 12,
   "id": "cdf610cc",
   "metadata": {},
   "outputs": [],
   "source": [
    "def get_covid_data(API_url, endpoint):                         # Function to get json data from Public API\n",
    "    url = API_url + endpoint\n",
    "    try:\n",
    "        response = requests.get(url)\n",
    "        data = response.json()\n",
    "        return data\n",
    "    except requests.exceptions.RequestException as e:\n",
    "        print(f\"Error fetching data from {url}: {e}\")\n",
    "        return None\n"
   ]
  },
  {
   "cell_type": "code",
   "execution_count": 16,
   "id": "6adb7908",
   "metadata": {},
   "outputs": [],
   "source": [
    "def create_data_from_covid_data(data):                         # Function to get single column data dictionary\n",
    "    if data is not None:\n",
    "        df = pd.DataFrame(data)                                \n",
    "        return df\n",
    "    else:\n",
    "        return None"
   ]
  },
  {
   "cell_type": "code",
   "execution_count": 25,
   "id": "843c31b7",
   "metadata": {},
   "outputs": [],
   "source": [
    "def create_dataframe(df):                                   # converts to multi column dataframe\n",
    "        dataframe = df['data'].apply(pd.Series) \n",
    "        return dataframe\n"
   ]
  },
  {
   "cell_type": "code",
   "execution_count": 26,
   "id": "13cd7d81",
   "metadata": {},
   "outputs": [
    {
     "ename": "NameError",
     "evalue": "name 'df1' is not defined",
     "output_type": "error",
     "traceback": [
      "\u001b[1;31m---------------------------------------------------------------------------\u001b[0m",
      "\u001b[1;31mNameError\u001b[0m                                 Traceback (most recent call last)",
      "Cell \u001b[1;32mIn[26], line 15\u001b[0m\n\u001b[0;32m     11\u001b[0m     dataframe2 \u001b[38;5;241m=\u001b[39m create_dataframe(df2, \u001b[38;5;241m2\u001b[39m)    \n\u001b[0;32m     13\u001b[0m     \u001b[38;5;28;01mreturn\u001b[39;00m dataframe1, dataframe2\n\u001b[1;32m---> 15\u001b[0m dataframe, dataframe2 \u001b[38;5;241m=\u001b[39m API()\n",
      "Cell \u001b[1;32mIn[26], line 10\u001b[0m, in \u001b[0;36mAPI\u001b[1;34m()\u001b[0m\n\u001b[0;32m      7\u001b[0m df1 \u001b[38;5;241m=\u001b[39m create_data_from_covid_data(data1)                    \u001b[38;5;66;03m#calling create data from covid data function\u001b[39;00m\n\u001b[0;32m      8\u001b[0m df2 \u001b[38;5;241m=\u001b[39m create_data_from_covid_data(data2)\n\u001b[1;32m---> 10\u001b[0m dataframe1 \u001b[38;5;241m=\u001b[39m create_dataframe(df1, \u001b[38;5;241m1\u001b[39m)                            \u001b[38;5;66;03m#calling create dataframe function        \u001b[39;00m\n\u001b[0;32m     11\u001b[0m dataframe2 \u001b[38;5;241m=\u001b[39m create_dataframe(df2, \u001b[38;5;241m2\u001b[39m)    \n\u001b[0;32m     13\u001b[0m \u001b[38;5;28;01mreturn\u001b[39;00m dataframe1, dataframe2\n",
      "Cell \u001b[1;32mIn[25], line 3\u001b[0m, in \u001b[0;36mcreate_dataframe\u001b[1;34m(df, number)\u001b[0m\n\u001b[0;32m      1\u001b[0m \u001b[38;5;28;01mdef\u001b[39;00m \u001b[38;5;21mcreate_dataframe\u001b[39m(df, number):                                   \u001b[38;5;66;03m# converts to multi column dataframe\u001b[39;00m\n\u001b[0;32m      2\u001b[0m     \u001b[38;5;28;01mif\u001b[39;00m number \u001b[38;5;241m==\u001b[39m\u001b[38;5;241m1\u001b[39m:\n\u001b[1;32m----> 3\u001b[0m         dataframe1 \u001b[38;5;241m=\u001b[39m df1[\u001b[38;5;124m'\u001b[39m\u001b[38;5;124mdata\u001b[39m\u001b[38;5;124m'\u001b[39m]\u001b[38;5;241m.\u001b[39mapply(pd\u001b[38;5;241m.\u001b[39mSeries) \n\u001b[0;32m      4\u001b[0m         \u001b[38;5;28;01mreturn\u001b[39;00m dataframe1\n\u001b[0;32m      5\u001b[0m     \u001b[38;5;28;01melse\u001b[39;00m:\n",
      "\u001b[1;31mNameError\u001b[0m: name 'df1' is not defined"
     ]
    }
   ],
   "source": [
    "def API():\n",
    "    API_url = 'https://covid-api.com/api/'                       #no key access - anyone can use\n",
    "\n",
    "    data1 = get_covid_data(API_url, 'regions')                  #calling get covid data function\n",
    "    data2 = get_covid_data(API_url, 'reports')\n",
    "\n",
    "    df1 = create_data_from_covid_data(data1)                    #calling create data from covid data function\n",
    "    df2 = create_data_from_covid_data(data2)\n",
    "    \n",
    "    dataframe1 = create_dataframe(df1)                            #calling create dataframe function        \n",
    "    dataframe2 = create_dataframe(df2)    \n",
    "   \n",
    "    return dataframe1, dataframe2\n",
    "\n",
    "dataframe, dataframe2 = API()"
   ]
  },
  {
   "cell_type": "code",
   "execution_count": 10,
   "id": "555d326b",
   "metadata": {},
   "outputs": [
    {
     "ename": "NameError",
     "evalue": "name 'df2' is not defined",
     "output_type": "error",
     "traceback": [
      "\u001b[1;31m---------------------------------------------------------------------------\u001b[0m",
      "\u001b[1;31mNameError\u001b[0m                                 Traceback (most recent call last)",
      "Cell \u001b[1;32mIn[10], line 1\u001b[0m\n\u001b[1;32m----> 1\u001b[0m dataframe2 \u001b[38;5;241m=\u001b[39m API()\n",
      "Cell \u001b[1;32mIn[9], line 13\u001b[0m, in \u001b[0;36mAPI\u001b[1;34m()\u001b[0m\n\u001b[0;32m     10\u001b[0m df2 \u001b[38;5;241m=\u001b[39m create_data_from_covid_data(data2)\n\u001b[0;32m     12\u001b[0m \u001b[38;5;66;03m#dataframe1 = create_dataframe(1)                            #calling create dataframe function        \u001b[39;00m\n\u001b[1;32m---> 13\u001b[0m dataframe2 \u001b[38;5;241m=\u001b[39m create_dataframe(\u001b[38;5;241m2\u001b[39m)    \n\u001b[0;32m     15\u001b[0m \u001b[38;5;28;01mreturn\u001b[39;00m dataframe2\n",
      "Cell \u001b[1;32mIn[6], line 6\u001b[0m, in \u001b[0;36mcreate_dataframe\u001b[1;34m(number)\u001b[0m\n\u001b[0;32m      4\u001b[0m     \u001b[38;5;28;01mreturn\u001b[39;00m dataframe1\n\u001b[0;32m      5\u001b[0m \u001b[38;5;28;01melse\u001b[39;00m:\n\u001b[1;32m----> 6\u001b[0m     dataframe2 \u001b[38;5;241m=\u001b[39m df2[\u001b[38;5;124m'\u001b[39m\u001b[38;5;124mdata\u001b[39m\u001b[38;5;124m'\u001b[39m]\u001b[38;5;241m.\u001b[39mapply(pd\u001b[38;5;241m.\u001b[39mSeries) \n\u001b[0;32m      7\u001b[0m     \u001b[38;5;28;01mreturn\u001b[39;00m dataframe2\n",
      "\u001b[1;31mNameError\u001b[0m: name 'df2' is not defined"
     ]
    }
   ],
   "source": [
    "dataframe1, dataframe2 = API()"
   ]
  },
  {
   "cell_type": "code",
   "execution_count": 3,
   "id": "9923923b",
   "metadata": {},
   "outputs": [
    {
     "ename": "NameError",
     "evalue": "name 'df1' is not defined",
     "output_type": "error",
     "traceback": [
      "\u001b[1;31m---------------------------------------------------------------------------\u001b[0m",
      "\u001b[1;31mNameError\u001b[0m                                 Traceback (most recent call last)",
      "Cell \u001b[1;32mIn[3], line 42\u001b[0m\n\u001b[0;32m     38\u001b[0m     dataframe2 \u001b[38;5;241m=\u001b[39m create_dataframe(\u001b[38;5;241m2\u001b[39m)    \n\u001b[0;32m     40\u001b[0m     \u001b[38;5;28;01mreturn\u001b[39;00m dataframe1, dataframe2\n\u001b[1;32m---> 42\u001b[0m dataframe1, dataframe2 \u001b[38;5;241m=\u001b[39m API()\n",
      "Cell \u001b[1;32mIn[3], line 37\u001b[0m, in \u001b[0;36mAPI\u001b[1;34m()\u001b[0m\n\u001b[0;32m     34\u001b[0m df1 \u001b[38;5;241m=\u001b[39m create_data_from_covid_data(data1)                    \u001b[38;5;66;03m#calling create data from covid data function\u001b[39;00m\n\u001b[0;32m     35\u001b[0m df2 \u001b[38;5;241m=\u001b[39m create_data_from_covid_data(data2)\n\u001b[1;32m---> 37\u001b[0m dataframe1 \u001b[38;5;241m=\u001b[39m create_dataframe(\u001b[38;5;241m1\u001b[39m)                            \u001b[38;5;66;03m#calling create dataframe function        \u001b[39;00m\n\u001b[0;32m     38\u001b[0m dataframe2 \u001b[38;5;241m=\u001b[39m create_dataframe(\u001b[38;5;241m2\u001b[39m)    \n\u001b[0;32m     40\u001b[0m \u001b[38;5;28;01mreturn\u001b[39;00m dataframe1, dataframe2\n",
      "Cell \u001b[1;32mIn[3], line 20\u001b[0m, in \u001b[0;36mcreate_dataframe\u001b[1;34m(number)\u001b[0m\n\u001b[0;32m     18\u001b[0m \u001b[38;5;28;01mdef\u001b[39;00m \u001b[38;5;21mcreate_dataframe\u001b[39m(number):                                   \u001b[38;5;66;03m# converts to multi column dataframe\u001b[39;00m\n\u001b[0;32m     19\u001b[0m     \u001b[38;5;28;01mif\u001b[39;00m number \u001b[38;5;241m==\u001b[39m\u001b[38;5;241m1\u001b[39m:\n\u001b[1;32m---> 20\u001b[0m         dataframe1 \u001b[38;5;241m=\u001b[39m df1[\u001b[38;5;124m'\u001b[39m\u001b[38;5;124mdata\u001b[39m\u001b[38;5;124m'\u001b[39m]\u001b[38;5;241m.\u001b[39mapply(pd\u001b[38;5;241m.\u001b[39mSeries) \n\u001b[0;32m     21\u001b[0m         \u001b[38;5;28;01mreturn\u001b[39;00m dataframe1\n\u001b[0;32m     22\u001b[0m     \u001b[38;5;28;01melse\u001b[39;00m:\n",
      "\u001b[1;31mNameError\u001b[0m: name 'df1' is not defined"
     ]
    }
   ],
   "source": [
    "def get_covid_data(API_url, endpoint):                         # Function to get json data from Public API\n",
    "    url = API_url + endpoint\n",
    "    try:\n",
    "        response = requests.get(url)\n",
    "        data = response.json()\n",
    "        return data\n",
    "    except requests.exceptions.RequestException as e:\n",
    "        print(f\"Error fetching data from {url}: {e}\")\n",
    "        return None\n",
    "\n",
    "def create_data_from_covid_data(data):                         # Function to get single column data dictionary\n",
    "    if data is not None:\n",
    "        df = pd.DataFrame(data)                                \n",
    "        return df\n",
    "    else:\n",
    "        return None\n",
    "    \n",
    "def create_dataframe(number):                                   # converts to multi column dataframe\n",
    "    if number ==1:\n",
    "        dataframe1 = df1['data'].apply(pd.Series) \n",
    "        return dataframe1\n",
    "    else:\n",
    "        dataframe2 = df2['data'].apply(pd.Series) \n",
    "        return dataframe2\n",
    "    \n",
    "def API():\n",
    "    API_url = 'https://covid-api.com/api/'                       #no key access - anyone can use\n",
    "    endpoint1 = 'regions'\n",
    "    endpoint2 = 'reports'\n",
    "\n",
    "    data1 = get_covid_data(API_url, 'regions')                  #calling get covid data function\n",
    "    data2 = get_covid_data(API_url, 'reports')\n",
    "\n",
    "    df1 = create_data_from_covid_data(data1)                    #calling create data from covid data function\n",
    "    df2 = create_data_from_covid_data(data2)\n",
    "    \n",
    "    dataframe1 = create_dataframe(1)                            #calling create dataframe function        \n",
    "    dataframe2 = create_dataframe(2)    \n",
    "   \n",
    "    return dataframe1, dataframe2\n",
    "\n",
    "\n",
    "dataframe1, dataframe2 = API()\n"
   ]
  },
  {
   "cell_type": "code",
   "execution_count": null,
   "id": "5735e5d1",
   "metadata": {},
   "outputs": [],
   "source": [
    "dataframe1.head(5)                                             # first dataframe "
   ]
  },
  {
   "cell_type": "code",
   "execution_count": null,
   "id": "577a4f42",
   "metadata": {},
   "outputs": [],
   "source": [
    "dataframe1.describe()"
   ]
  },
  {
   "cell_type": "code",
   "execution_count": null,
   "id": "142ae0c0",
   "metadata": {},
   "outputs": [],
   "source": [
    "dataframe2.head(5)                                             # second dataframe "
   ]
  },
  {
   "cell_type": "code",
   "execution_count": 4,
   "id": "57bc8f94",
   "metadata": {},
   "outputs": [
    {
     "ename": "NameError",
     "evalue": "name 'dataframe2' is not defined",
     "output_type": "error",
     "traceback": [
      "\u001b[1;31m---------------------------------------------------------------------------\u001b[0m",
      "\u001b[1;31mNameError\u001b[0m                                 Traceback (most recent call last)",
      "Cell \u001b[1;32mIn[4], line 1\u001b[0m\n\u001b[1;32m----> 1\u001b[0m dataframe2\u001b[38;5;241m.\u001b[39mdescribe()\n",
      "\u001b[1;31mNameError\u001b[0m: name 'dataframe2' is not defined"
     ]
    }
   ],
   "source": [
    "dataframe2.describe()"
   ]
  },
  {
   "cell_type": "code",
   "execution_count": 5,
   "id": "f65de16a",
   "metadata": {},
   "outputs": [
    {
     "ename": "NameError",
     "evalue": "name 'dataframe2' is not defined",
     "output_type": "error",
     "traceback": [
      "\u001b[1;31m---------------------------------------------------------------------------\u001b[0m",
      "\u001b[1;31mNameError\u001b[0m                                 Traceback (most recent call last)",
      "Cell \u001b[1;32mIn[5], line 1\u001b[0m\n\u001b[1;32m----> 1\u001b[0m data\u001b[38;5;241m=\u001b[39mdataframe2[\u001b[38;5;124m'\u001b[39m\u001b[38;5;124mregion\u001b[39m\u001b[38;5;124m'\u001b[39m]                                      \n\u001b[0;32m      2\u001b[0m data\n",
      "\u001b[1;31mNameError\u001b[0m: name 'dataframe2' is not defined"
     ]
    }
   ],
   "source": [
    "data=dataframe2['region']                                      \n",
    "data"
   ]
  },
  {
   "cell_type": "code",
   "execution_count": 49,
   "id": "4d5465da",
   "metadata": {},
   "outputs": [
    {
     "data": {
      "text/html": [
       "<div>\n",
       "<style scoped>\n",
       "    .dataframe tbody tr th:only-of-type {\n",
       "        vertical-align: middle;\n",
       "    }\n",
       "\n",
       "    .dataframe tbody tr th {\n",
       "        vertical-align: top;\n",
       "    }\n",
       "\n",
       "    .dataframe thead th {\n",
       "        text-align: right;\n",
       "    }\n",
       "</style>\n",
       "<table border=\"1\" class=\"dataframe\">\n",
       "  <thead>\n",
       "    <tr style=\"text-align: right;\">\n",
       "      <th></th>\n",
       "      <th>iso</th>\n",
       "      <th>name</th>\n",
       "      <th>province</th>\n",
       "      <th>lat</th>\n",
       "      <th>long</th>\n",
       "      <th>cities</th>\n",
       "    </tr>\n",
       "  </thead>\n",
       "  <tbody>\n",
       "    <tr>\n",
       "      <th>0</th>\n",
       "      <td>AFG</td>\n",
       "      <td>Afghanistan</td>\n",
       "      <td></td>\n",
       "      <td>33.9391</td>\n",
       "      <td>67.7100</td>\n",
       "      <td>[]</td>\n",
       "    </tr>\n",
       "    <tr>\n",
       "      <th>1</th>\n",
       "      <td>ALB</td>\n",
       "      <td>Albania</td>\n",
       "      <td></td>\n",
       "      <td>41.1533</td>\n",
       "      <td>20.1683</td>\n",
       "      <td>[]</td>\n",
       "    </tr>\n",
       "    <tr>\n",
       "      <th>2</th>\n",
       "      <td>DZA</td>\n",
       "      <td>Algeria</td>\n",
       "      <td></td>\n",
       "      <td>28.0339</td>\n",
       "      <td>1.6596</td>\n",
       "      <td>[]</td>\n",
       "    </tr>\n",
       "    <tr>\n",
       "      <th>3</th>\n",
       "      <td>AND</td>\n",
       "      <td>Andorra</td>\n",
       "      <td></td>\n",
       "      <td>42.5063</td>\n",
       "      <td>1.5218</td>\n",
       "      <td>[]</td>\n",
       "    </tr>\n",
       "    <tr>\n",
       "      <th>4</th>\n",
       "      <td>AGO</td>\n",
       "      <td>Angola</td>\n",
       "      <td></td>\n",
       "      <td>-11.2027</td>\n",
       "      <td>17.8739</td>\n",
       "      <td>[]</td>\n",
       "    </tr>\n",
       "    <tr>\n",
       "      <th>...</th>\n",
       "      <td>...</td>\n",
       "      <td>...</td>\n",
       "      <td>...</td>\n",
       "      <td>...</td>\n",
       "      <td>...</td>\n",
       "      <td>...</td>\n",
       "    </tr>\n",
       "    <tr>\n",
       "      <th>786</th>\n",
       "      <td>VNM</td>\n",
       "      <td>Vietnam</td>\n",
       "      <td></td>\n",
       "      <td>14.0583</td>\n",
       "      <td>108.2772</td>\n",
       "      <td>[]</td>\n",
       "    </tr>\n",
       "    <tr>\n",
       "      <th>787</th>\n",
       "      <td>PSE</td>\n",
       "      <td>West Bank and Gaza</td>\n",
       "      <td></td>\n",
       "      <td>31.9522</td>\n",
       "      <td>35.2332</td>\n",
       "      <td>[]</td>\n",
       "    </tr>\n",
       "    <tr>\n",
       "      <th>788</th>\n",
       "      <td>YEM</td>\n",
       "      <td>Yemen</td>\n",
       "      <td></td>\n",
       "      <td>15.552726999999999</td>\n",
       "      <td>48.516388</td>\n",
       "      <td>[]</td>\n",
       "    </tr>\n",
       "    <tr>\n",
       "      <th>789</th>\n",
       "      <td>ZMB</td>\n",
       "      <td>Zambia</td>\n",
       "      <td></td>\n",
       "      <td>-13.1339</td>\n",
       "      <td>27.8493</td>\n",
       "      <td>[]</td>\n",
       "    </tr>\n",
       "    <tr>\n",
       "      <th>790</th>\n",
       "      <td>ZWE</td>\n",
       "      <td>Zimbabwe</td>\n",
       "      <td></td>\n",
       "      <td>-19.0154</td>\n",
       "      <td>29.1549</td>\n",
       "      <td>[]</td>\n",
       "    </tr>\n",
       "  </tbody>\n",
       "</table>\n",
       "<p>791 rows × 6 columns</p>\n",
       "</div>"
      ],
      "text/plain": [
       "     iso                name province                 lat       long cities\n",
       "0    AFG         Afghanistan                      33.9391    67.7100     []\n",
       "1    ALB             Albania                      41.1533    20.1683     []\n",
       "2    DZA             Algeria                      28.0339     1.6596     []\n",
       "3    AND             Andorra                      42.5063     1.5218     []\n",
       "4    AGO              Angola                     -11.2027    17.8739     []\n",
       "..   ...                 ...      ...                 ...        ...    ...\n",
       "786  VNM             Vietnam                      14.0583   108.2772     []\n",
       "787  PSE  West Bank and Gaza                      31.9522    35.2332     []\n",
       "788  YEM               Yemen           15.552726999999999  48.516388     []\n",
       "789  ZMB              Zambia                     -13.1339    27.8493     []\n",
       "790  ZWE            Zimbabwe                     -19.0154    29.1549     []\n",
       "\n",
       "[791 rows x 6 columns]"
      ]
     },
     "execution_count": 49,
     "metadata": {},
     "output_type": "execute_result"
    }
   ],
   "source": [
    "dataframe3=data.apply(pd.Series) \n",
    "dataframe3"
   ]
  },
  {
   "cell_type": "code",
   "execution_count": null,
   "id": "90930cfa",
   "metadata": {},
   "outputs": [],
   "source": []
  },
  {
   "cell_type": "code",
   "execution_count": null,
   "id": "ab624f65",
   "metadata": {},
   "outputs": [],
   "source": []
  },
  {
   "cell_type": "code",
   "execution_count": 59,
   "id": "9fa1cae9",
   "metadata": {},
   "outputs": [
    {
     "data": {
      "text/html": [
       "<div>\n",
       "<style scoped>\n",
       "    .dataframe tbody tr th:only-of-type {\n",
       "        vertical-align: middle;\n",
       "    }\n",
       "\n",
       "    .dataframe tbody tr th {\n",
       "        vertical-align: top;\n",
       "    }\n",
       "\n",
       "    .dataframe thead th {\n",
       "        text-align: right;\n",
       "    }\n",
       "</style>\n",
       "<table border=\"1\" class=\"dataframe\">\n",
       "  <thead>\n",
       "    <tr style=\"text-align: right;\">\n",
       "      <th></th>\n",
       "      <th>iso</th>\n",
       "      <th>name</th>\n",
       "      <th>province</th>\n",
       "      <th>lat</th>\n",
       "      <th>long</th>\n",
       "      <th>cities</th>\n",
       "    </tr>\n",
       "  </thead>\n",
       "  <tbody>\n",
       "    <tr>\n",
       "      <th>count</th>\n",
       "      <td>791</td>\n",
       "      <td>791</td>\n",
       "      <td>791</td>\n",
       "      <td>775</td>\n",
       "      <td>775</td>\n",
       "      <td>791</td>\n",
       "    </tr>\n",
       "    <tr>\n",
       "      <th>unique</th>\n",
       "      <td>196</td>\n",
       "      <td>196</td>\n",
       "      <td>599</td>\n",
       "      <td>769</td>\n",
       "      <td>759</td>\n",
       "      <td>52</td>\n",
       "    </tr>\n",
       "    <tr>\n",
       "      <th>top</th>\n",
       "      <td>RUS</td>\n",
       "      <td>Russia</td>\n",
       "      <td></td>\n",
       "      <td>0.0</td>\n",
       "      <td>0.0</td>\n",
       "      <td>[]</td>\n",
       "    </tr>\n",
       "    <tr>\n",
       "      <th>freq</th>\n",
       "      <td>83</td>\n",
       "      <td>83</td>\n",
       "      <td>174</td>\n",
       "      <td>4</td>\n",
       "      <td>4</td>\n",
       "      <td>740</td>\n",
       "    </tr>\n",
       "  </tbody>\n",
       "</table>\n",
       "</div>"
      ],
      "text/plain": [
       "        iso    name province  lat long cities\n",
       "count   791     791      791  775  775    791\n",
       "unique  196     196      599  769  759     52\n",
       "top     RUS  Russia           0.0  0.0     []\n",
       "freq     83      83      174    4    4    740"
      ]
     },
     "execution_count": 59,
     "metadata": {},
     "output_type": "execute_result"
    }
   ],
   "source": [
    "dataframe3.describe()"
   ]
  },
  {
   "cell_type": "code",
   "execution_count": null,
   "id": "732033f5",
   "metadata": {},
   "outputs": [],
   "source": [
    "sns.pairplot(iris_data, hue='species', markers=[\"o\", \"s\", \"D\"])\n",
    "plt.suptitle('Pair Plot of Iris Dataset with Colors Based on Species')\n",
    "plt.show()"
   ]
  },
  {
   "cell_type": "code",
   "execution_count": null,
   "id": "cb2ad1ff",
   "metadata": {},
   "outputs": [],
   "source": []
  },
  {
   "cell_type": "code",
   "execution_count": null,
   "id": "2b5244c7",
   "metadata": {},
   "outputs": [],
   "source": []
  },
  {
   "cell_type": "code",
   "execution_count": null,
   "id": "e83f5957",
   "metadata": {},
   "outputs": [],
   "source": []
  },
  {
   "cell_type": "code",
   "execution_count": null,
   "id": "bfa64997",
   "metadata": {},
   "outputs": [],
   "source": []
  },
  {
   "cell_type": "code",
   "execution_count": null,
   "id": "a4795a36",
   "metadata": {},
   "outputs": [],
   "source": []
  },
  {
   "cell_type": "code",
   "execution_count": null,
   "id": "3586ff61",
   "metadata": {},
   "outputs": [],
   "source": []
  },
  {
   "cell_type": "code",
   "execution_count": null,
   "id": "a283f9c8",
   "metadata": {},
   "outputs": [],
   "source": []
  },
  {
   "cell_type": "code",
   "execution_count": null,
   "id": "74be54b5",
   "metadata": {},
   "outputs": [],
   "source": []
  },
  {
   "cell_type": "code",
   "execution_count": null,
   "id": "b1b104a8",
   "metadata": {},
   "outputs": [],
   "source": []
  },
  {
   "cell_type": "code",
   "execution_count": null,
   "id": "5722d065",
   "metadata": {},
   "outputs": [],
   "source": []
  },
  {
   "cell_type": "code",
   "execution_count": null,
   "id": "a169be58",
   "metadata": {},
   "outputs": [],
   "source": []
  },
  {
   "cell_type": "code",
   "execution_count": null,
   "id": "ffc72cbd",
   "metadata": {},
   "outputs": [],
   "source": []
  },
  {
   "cell_type": "code",
   "execution_count": null,
   "id": "c5e46b4b",
   "metadata": {},
   "outputs": [],
   "source": []
  },
  {
   "cell_type": "code",
   "execution_count": null,
   "id": "e9de81de",
   "metadata": {},
   "outputs": [],
   "source": []
  },
  {
   "cell_type": "code",
   "execution_count": null,
   "id": "81687344",
   "metadata": {},
   "outputs": [],
   "source": []
  },
  {
   "cell_type": "code",
   "execution_count": null,
   "id": "4fc44b6b",
   "metadata": {},
   "outputs": [],
   "source": []
  },
  {
   "cell_type": "code",
   "execution_count": null,
   "id": "d81eb60b",
   "metadata": {},
   "outputs": [],
   "source": []
  },
  {
   "cell_type": "code",
   "execution_count": null,
   "id": "ac5fb96a",
   "metadata": {},
   "outputs": [],
   "source": []
  },
  {
   "cell_type": "code",
   "execution_count": null,
   "id": "c897a854",
   "metadata": {},
   "outputs": [],
   "source": []
  },
  {
   "cell_type": "code",
   "execution_count": null,
   "id": "cc971759",
   "metadata": {},
   "outputs": [],
   "source": []
  },
  {
   "cell_type": "code",
   "execution_count": null,
   "id": "018f8042",
   "metadata": {},
   "outputs": [],
   "source": []
  },
  {
   "cell_type": "code",
   "execution_count": null,
   "id": "d9b18ee3",
   "metadata": {},
   "outputs": [],
   "source": []
  },
  {
   "cell_type": "code",
   "execution_count": null,
   "id": "e5b45e78",
   "metadata": {},
   "outputs": [],
   "source": []
  },
  {
   "cell_type": "code",
   "execution_count": null,
   "id": "bdd48ce6",
   "metadata": {},
   "outputs": [],
   "source": []
  }
 ],
 "metadata": {
  "kernelspec": {
   "display_name": "Python [conda env:.conda-DataAnalytics] *",
   "language": "python",
   "name": "conda-env-.conda-DataAnalytics-py"
  },
  "language_info": {
   "codemirror_mode": {
    "name": "ipython",
    "version": 3
   },
   "file_extension": ".py",
   "mimetype": "text/x-python",
   "name": "python",
   "nbconvert_exporter": "python",
   "pygments_lexer": "ipython3",
   "version": "3.11.4"
  }
 },
 "nbformat": 4,
 "nbformat_minor": 5
}
