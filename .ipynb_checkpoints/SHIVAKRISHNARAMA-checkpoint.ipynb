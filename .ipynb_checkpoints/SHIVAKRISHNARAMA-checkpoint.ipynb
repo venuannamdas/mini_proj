{
 "cells": [
  {
   "cell_type": "code",
   "execution_count": 2,
   "id": "4e7d8490",
   "metadata": {},
   "outputs": [
    {
     "name": "stdout",
     "output_type": "stream",
     "text": [
      "{'get': 'statistics', 'parameters': {'country': 'china'}, 'errors': [], 'results': 1, 'response': [{'continent': 'Asia', 'country': 'China', 'population': 1448471400, 'cases': {'new': None, 'active': 118977, 'critical': None, 'recovered': 379053, '1M_pop': '347', 'total': 503302}, 'deaths': {'new': None, '1M_pop': '4', 'total': 5272}, 'tests': {'1M_pop': '110461', 'total': 160000000}, 'day': '2023-08-04', 'time': '2023-08-04T18:00:12+00:00'}]}\n"
     ]
    }
   ],
   "source": [
    "import requests\n",
    "\n",
    "url = \"https://covid-193.p.rapidapi.com/statistics\"\n",
    "\n",
    "querystring = {\"country\":\"china\"}\n",
    "\n",
    "headers = {\n",
    "\t\"X-RapidAPI-Key\": \"1892c8507amsh394ab3093c2eab2p1fc9a8jsn57e51c27368a\",\n",
    "\t\"X-RapidAPI-Host\": \"covid-193.p.rapidapi.com\"\n",
    "}\n",
    "\n",
    "response = requests.get(url, headers=headers, params=querystring)\n",
    "\n",
    "print(response.json())"
   ]
  },
  {
   "cell_type": "code",
   "execution_count": null,
   "id": "4facea36",
   "metadata": {},
   "outputs": [],
   "source": []
  }
 ],
 "metadata": {
  "kernelspec": {
   "display_name": "Python [conda env:.conda-DataAnalytics] *",
   "language": "python",
   "name": "conda-env-.conda-DataAnalytics-py"
  },
  "language_info": {
   "codemirror_mode": {
    "name": "ipython",
    "version": 3
   },
   "file_extension": ".py",
   "mimetype": "text/x-python",
   "name": "python",
   "nbconvert_exporter": "python",
   "pygments_lexer": "ipython3",
   "version": "3.11.4"
  }
 },
 "nbformat": 4,
 "nbformat_minor": 5
}
